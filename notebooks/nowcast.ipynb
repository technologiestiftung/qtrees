{
 "cells": [
  {
   "cell_type": "code",
   "execution_count": 15,
   "metadata": {},
   "outputs": [],
   "source": [
    "import geopandas as gpd\n",
    "import pandas as pd\n",
    "import io\n",
    "import requests\n",
    "import gzip\n",
    "import wradlib as wrl\n",
    "from shapely.geometry import Polygon\n",
    "import datetime\n",
    "from zipfile import ZipFile\n",
    "from requests.exceptions import RequestException\n",
    "from sqlalchemy import create_engine\n",
    "from sklearn.ensemble import RandomForestRegressor\n",
    "\n",
    "import pickle\n",
    "\n",
    "postgres_passwd = \"postgrespostgres\"\n",
    "db_qtrees = \"localhost\"\n",
    "\n",
    "engine = create_engine(\n",
    "    f\"postgresql://postgres:{postgres_passwd}@{db_qtrees}:5432/qtrees\"\n",
    ")\n",
    "\n",
    "with engine.connect() as con:\n",
    "    train_data = pd.read_sql('select * from private.training_data', con)\n",
    "    \n",
    "train_data = train_data.dropna()\n",
    "FEATURES = [\"winter\", \"spring\", \"summer\", \"fall\", \"standalter\", \"rainfall_mm_14d_sum\", \"temp_avg_c_14d_avg\", \"median_value\"]\n",
    "for type in [1, 2, 3]:\n",
    "    X = train_data.loc[train_data.type_id == type, FEATURES]\n",
    "    y = train_data.loc[train_data.type_id == type, \"target\"]\n",
    "\n",
    "    model = RandomForestRegressor()\n",
    "    model.fit(X, y)\n",
    "\n",
    "    pickle.dump(model, open(f'model{type}_.m', 'wb'))"
   ]
  },
  {
   "cell_type": "code",
   "execution_count": 43,
   "metadata": {},
   "outputs": [],
   "source": [
    "q = \"\"\"(SELECT trees.id, 1 as type_id, date(now()::date - interval '1 d') as yesterday,\n",
    "\t\tshading.spring, shading.summer, shading.fall, shading.winter, trees.gattung_deutsch, trees.standalter,\n",
    "\t\t(select rainfall_mm_14d_sum FROM private.weather_solaranywhere_14d_agg WHERE date = date(now()::date - interval '1 d')),\n",
    "\t\t(select temp_avg_c_14d_avg FROM private.weather_solaranywhere_14d_agg WHERE date = date(now()::date - interval '1 d')),\n",
    "\t\t(select median_value FROM private.sensor_measurements_agg WHERE (date(sensor_measurements_agg.timestamp) = date(now()::date - interval '1 d')) AND sensor_measurements_agg.type_id = 1)\n",
    "FROM (SELECT * FROM public.trees WHERE trees.street_tree = True) AS trees LEFT JOIN public.shading ON shading.tree_id = trees.id)\"\"\"\n",
    "\n",
    "with engine.connect() as con:\n",
    "    test_data = pd.read_sql(q, con)\n",
    "\n",
    "X = test_data[FEATURES+[\"id\"]].set_index(\"id\").dropna()\n",
    "model = pickle.load(open(f'model{1}_.m', 'rb'))\n",
    "y_hat = pd.DataFrame(model.predict(X), index=X.index).reset_index()\n",
    "y_hat.columns = [\"tree_id\", \"value\"]\n",
    "y_hat[\"type_id\"] = 1\n",
    "y_hat[\"timestamp\"] = datetime.date.today() - pd.Timedelta(\"1D\")\n",
    "y_hat[\"created_at\"] = datetime.datetime.now()\n",
    "y_hat[\"model_id\"] = \"Random Forest (simple)\"\n",
    "y_hat.head()"
   ]
  },
  {
   "cell_type": "code",
   "execution_count": 48,
   "metadata": {},
   "outputs": [
    {
     "data": {
      "text/plain": [
       "411704"
      ]
     },
     "execution_count": 48,
     "metadata": {},
     "output_type": "execute_result"
    }
   ],
   "source": [
    "y_hat.to_sql(\"nowcast\", engine, if_exists=\"append\", schema=\"public\", index=False, method='multi')"
   ]
  }
 ],
 "metadata": {
  "kernelspec": {
   "display_name": "qtrees",
   "language": "python",
   "name": "python3"
  },
  "language_info": {
   "codemirror_mode": {
    "name": "ipython",
    "version": 3
   },
   "file_extension": ".py",
   "mimetype": "text/x-python",
   "name": "python",
   "nbconvert_exporter": "python",
   "pygments_lexer": "ipython3",
   "version": "3.10.6"
  },
  "orig_nbformat": 4
 },
 "nbformat": 4,
 "nbformat_minor": 2
}
