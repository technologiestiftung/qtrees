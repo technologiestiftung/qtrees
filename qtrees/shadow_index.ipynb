{
 "cells": [
  {
   "cell_type": "code",
   "execution_count": null,
   "id": "76580b65",
   "metadata": {},
   "outputs": [],
   "source": [
    "import pandas as pd\n",
    "import matplotlib.pyplot as plt\n",
    "import numpy as np\n",
    "\n",
    "tile_shadow_path = \"../data/data_single_tile/shadow_index/paul_linke_shadow.csv\"\n",
    "monthly_df = pd.read_csv(tile_shadow_path, index_col=0)\n",
    "monthly_df.index.name = \"tree_id\"\n",
    "monthly_df"
   ]
  },
  {
   "cell_type": "code",
   "execution_count": null,
   "id": "f77dcbdc",
   "metadata": {},
   "outputs": [],
   "source": [
    "all_shadow_path = \"../data/shadow_index/berlin_shadow_box_220323.csv\"\n",
    "all_df = pd.read_csv(all_shadow_path, index_col=0)\n",
    "all_df.index.name = \"tree_id\"\n",
    "all_df"
   ]
  },
  {
   "cell_type": "code",
   "execution_count": null,
   "id": "40555c06",
   "metadata": {},
   "outputs": [],
   "source": [
    "s1 = pd.merge(monthly_df, all_df, how='inner', on=['tree_id'])\n",
    "s1"
   ]
  },
  {
   "cell_type": "code",
   "execution_count": null,
   "id": "c6637203",
   "metadata": {},
   "outputs": [],
   "source": [
    "s2 = s1.rename(columns={\"winter\": \"355\", \"spring\": \"80\", \"summer\": \"172\", \"autumn\": \"266\"})"
   ]
  },
  {
   "cell_type": "code",
   "execution_count": null,
   "id": "6b47c34f",
   "metadata": {},
   "outputs": [],
   "source": [
    "seasonal_df = s2[['355', '80', \"172\", \"266\"]]\n",
    "seasonal_df"
   ]
  },
  {
   "cell_type": "code",
   "execution_count": null,
   "id": "4b5c8d2b",
   "metadata": {},
   "outputs": [],
   "source": [
    "seasonal_df = seasonal_df.T\n",
    "monthly_df = monthly_df.T"
   ]
  },
  {
   "cell_type": "code",
   "execution_count": null,
   "id": "ab7f7a0a",
   "metadata": {},
   "outputs": [],
   "source": [
    "ax = monthly_df.plot(marker='.', figsize=(10,7), title=\"Shadow index per season\", ylabel= \"shadow index\", xlabel = \"days\", grid=True)"
   ]
  },
  {
   "cell_type": "code",
   "execution_count": null,
   "id": "847ecc08",
   "metadata": {},
   "outputs": [],
   "source": [
    "ax = seasonal_df.plot(marker='.', figsize=(10,7), title=\"Shadow index per season\", ylabel= \"shadow index\", xlabel = \"days\", grid=True)"
   ]
  },
  {
   "cell_type": "code",
   "execution_count": null,
   "id": "b9a6c7c2",
   "metadata": {},
   "outputs": [],
   "source": [
    "s2 = s2.rename(columns={\"31\": \"031\", \"61\": \"061\", \"80\": \"080\", \"91\": \"091\"})\n",
    "merged_df = s2.reindex(sorted(s2.columns), axis=1)\n",
    "merged_df "
   ]
  },
  {
   "cell_type": "code",
   "execution_count": null,
   "id": "5db41686",
   "metadata": {},
   "outputs": [],
   "source": [
    "merged_df = merged_df.T"
   ]
  },
  {
   "cell_type": "code",
   "execution_count": null,
   "id": "af9df979",
   "metadata": {},
   "outputs": [],
   "source": [
    "ax = merged_df .plot(marker='.', figsize=(10,7), title=\"Shadow index per season\", ylabel= \"shadow index\", xlabel = \"days\", grid=True)"
   ]
  },
  {
   "cell_type": "code",
   "execution_count": null,
   "id": "f6ad4ac2",
   "metadata": {},
   "outputs": [],
   "source": [
    "ax = monthly_df.plot(marker='.', figsize=(10,7), title=\"Shadow index per season\", ylabel= \"shadow index\", xlabel = \"days\", grid=True)"
   ]
  },
  {
   "cell_type": "code",
   "execution_count": null,
   "id": "3fc3bd96",
   "metadata": {},
   "outputs": [],
   "source": []
  }
 ],
 "metadata": {
  "kernelspec": {
   "display_name": "Python 3 (ipykernel)",
   "language": "python",
   "name": "python3"
  },
  "language_info": {
   "codemirror_mode": {
    "name": "ipython",
    "version": 3
   },
   "file_extension": ".py",
   "mimetype": "text/x-python",
   "name": "python",
   "nbconvert_exporter": "python",
   "pygments_lexer": "ipython3",
   "version": "3.8.13"
  }
 },
 "nbformat": 4,
 "nbformat_minor": 5
}
