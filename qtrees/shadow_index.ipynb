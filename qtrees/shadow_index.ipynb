{
 "cells": [
  {
   "cell_type": "code",
   "execution_count": null,
   "metadata": {},
   "outputs": [],
   "source": [
    "import pandas as pd\n",
    "import matplotlib.pyplot as plt\n",
    "import numpy as np\n",
    "from pyproj import Proj, transform\n",
    "import xarray as xr\n",
    "import geopandas as gpd\n",
    "from scipy import interpolate\n",
    "\n",
    "tree_geojson = \"../data/data_single_tile/shadow_index/trees_gdf.geojson\"\n",
    "tile_sun_hour = \"../data/data_single_tile/berlin_maps_filtered/box_k5_001dom1_33_392_5816_2_be_2021.tiff\"\n",
    "tile_shadow_path = \"../data/data_single_tile/shadow_index/paul_linke_2504.csv\"\n",
    "\n",
    "monthly_df = pd.read_csv(tile_shadow_path, index_col=0)\n",
    "monthly_df.index.name = \"tree_id\"\n",
    "monthly_df"
   ]
  },
  {
   "cell_type": "code",
   "execution_count": null,
   "metadata": {},
   "outputs": [],
   "source": [
    "def plot_shadow_indices(df): \n",
    "    ax = df.plot(marker='.', figsize=(10,7), title=\"Shadow index per season\", ylabel= \"shadow index\", xlabel = \"days\", grid=True)\n",
    "    ax.set_ylim(0, 1)\n",
    "    plt.legend(loc='center left', bbox_to_anchor=(1.0, 0.5))"
   ]
  },
  {
   "cell_type": "code",
   "execution_count": null,
   "metadata": {},
   "outputs": [],
   "source": [
    "all_shadow_path = \"../data/shadow_index/berlin_shadow_box_220323.csv\"\n",
    "all_df = pd.read_csv(all_shadow_path, index_col=0)\n",
    "all_df.index.name = \"tree_id\"\n",
    "all_df"
   ]
  },
  {
   "cell_type": "markdown",
   "metadata": {},
   "source": [
    "Merge seasonal values with monthly values"
   ]
  },
  {
   "cell_type": "code",
   "execution_count": null,
   "metadata": {},
   "outputs": [],
   "source": [
    "s1 = pd.merge(monthly_df, all_df, how='inner', on=['tree_id'])\n",
    "s1"
   ]
  },
  {
   "cell_type": "code",
   "execution_count": null,
   "metadata": {},
   "outputs": [],
   "source": [
    "s2 = s1.rename(columns={\"winter\": \"355\", \"spring\": \"080\", \"summer\": \"172\", \"autumn\": \"266\"})\n",
    "seasonal_df = s2[['355', '080', \"172\", \"266\"]]\n",
    "seasonal_df"
   ]
  },
  {
   "cell_type": "code",
   "execution_count": null,
   "metadata": {},
   "outputs": [],
   "source": [
    "seasonal_df = seasonal_df.T\n",
    "monthly_df = monthly_df.T\n",
    "monthly_df"
   ]
  },
  {
   "cell_type": "markdown",
   "metadata": {},
   "source": [
    "Plot monthly shadow indices"
   ]
  },
  {
   "cell_type": "code",
   "execution_count": null,
   "metadata": {},
   "outputs": [],
   "source": [
    "plot_shadow_indices(monthly_df)"
   ]
  },
  {
   "cell_type": "markdown",
   "metadata": {},
   "source": [
    "Plot seasonal shadow indices"
   ]
  },
  {
   "cell_type": "code",
   "execution_count": null,
   "metadata": {},
   "outputs": [],
   "source": [
    "plot_shadow_indices(seasonal_df)"
   ]
  },
  {
   "cell_type": "markdown",
   "metadata": {},
   "source": [
    "Prepare a dataframe to interpolate between seasonal values"
   ]
  },
  {
   "cell_type": "code",
   "execution_count": null,
   "metadata": {},
   "outputs": [],
   "source": [
    "inter_seasonal_df = seasonal_df.T\n",
    "inter_seasonal_df = inter_seasonal_df.reindex(sorted(s2.columns), axis=1)\n",
    "inter_seasonal_df.rename(columns={\"31\": \"031\", \"61\": \"061\", \"91\": \"091\"},inplace = True)\n",
    "inter_seasonal_df = inter_seasonal_df.reindex(sorted(inter_seasonal_df.columns), axis=1)\n",
    "last_column = inter_seasonal_df['355']\n",
    "new_column = pd.DataFrame({-10: last_column})\n",
    "inter_seasonal_df= pd.concat([new_column, inter_seasonal_df], axis=1)\n",
    "inter_seasonal_df"
   ]
  },
  {
   "cell_type": "code",
   "execution_count": null,
   "metadata": {},
   "outputs": [],
   "source": [
    "inter_seasonal_df"
   ]
  },
  {
   "cell_type": "code",
   "execution_count": null,
   "metadata": {},
   "outputs": [],
   "source": [
    "inter_seasonal_dft = inter_seasonal_df.T\n",
    "inter_seasonal_dft.index = pd.to_numeric(inter_seasonal_dft.index)\n",
    "lin_interp_df = inter_seasonal_dft.T.interpolate(method ='linear', limit_direction ='backward', axis = 1 )\n",
    "lin_interp_df = lin_interp_df.drop(columns=[-10, 355, 80, 172, 266])\n"
   ]
  },
  {
   "cell_type": "code",
   "execution_count": null,
   "metadata": {},
   "outputs": [],
   "source": [
    "lin_interp_df"
   ]
  },
  {
   "cell_type": "markdown",
   "metadata": {},
   "source": [
    "Plot liner interpolated shadow indices"
   ]
  },
  {
   "cell_type": "code",
   "execution_count": null,
   "metadata": {},
   "outputs": [],
   "source": [
    "plot_shadow_indices(lin_interp_df.T)"
   ]
  },
  {
   "cell_type": "markdown",
   "metadata": {},
   "source": [
    "Prepare the df for quadratic & cubic interpolation & plot the df"
   ]
  },
  {
   "cell_type": "code",
   "execution_count": null,
   "metadata": {},
   "outputs": [],
   "source": [
    "transformed_seasonal_df = inter_seasonal_df.T\n",
    "transformed_seasonal_df.index\n",
    "transformed_seasonal_df.index = pd.to_numeric(transformed_seasonal_df.index)"
   ]
  },
  {
   "cell_type": "code",
   "execution_count": null,
   "metadata": {},
   "outputs": [],
   "source": [
    "cubic_interp_df = transformed_seasonal_df.interpolate(method ='cubic', order=2, limit=None,limit_direction='both' )\n",
    "cubic_interp_df = cubic_interp_df.T.drop(columns=[-10, 355, 80, 172, 266])\n",
    "cubic_interp_df "
   ]
  },
  {
   "cell_type": "code",
   "execution_count": null,
   "metadata": {},
   "outputs": [],
   "source": [
    "quadr_interp_df = transformed_seasonal_df.interpolate(method ='quadratic', limit=None,limit_direction=None)\n",
    "quadr_interp_df = quadr_interp_df.T.drop(columns=[-10, 355, 80, 172, 266])\n",
    "quadr_interp_df"
   ]
  },
  {
   "cell_type": "markdown",
   "metadata": {},
   "source": [
    "Quadratic Intepolated Indices:"
   ]
  },
  {
   "cell_type": "code",
   "execution_count": null,
   "metadata": {},
   "outputs": [],
   "source": [
    "plot_shadow_indices(quadr_interp_df.T)"
   ]
  },
  {
   "cell_type": "markdown",
   "metadata": {},
   "source": [
    "Cubic interpolated indices: "
   ]
  },
  {
   "cell_type": "code",
   "execution_count": null,
   "metadata": {},
   "outputs": [],
   "source": [
    "plot_shadow_indices(cubic_interp_df.T)"
   ]
  },
  {
   "cell_type": "markdown",
   "metadata": {},
   "source": [
    "Calculating the MSE:"
   ]
  },
  {
   "cell_type": "code",
   "execution_count": null,
   "metadata": {},
   "outputs": [],
   "source": [
    "#preparing the dataframes for mse\n",
    "ground_truth_df = s2.T\n",
    "lin_interp_dft = lin_interp_df.T\n",
    "\n",
    "ground_truth_df.index = pd.to_numeric(ground_truth_df.index)\n",
    "ground_truth_df = ground_truth_df.T.sort_index(axis=1)\n",
    "ground_truth_df = ground_truth_df.drop(columns=[355, 80, 172, 266])\n",
    "\n",
    "lin_interp_dft.index = pd.to_numeric(lin_interp_dft.index)\n",
    "lin_interp_dft = lin_interp_dft.T\n",
    "\n",
    "quadr_interp_mse = np.mean((ground_truth_df - quadr_interp_df) ** 2)\n",
    "cubic_interp_mse = np.mean((ground_truth_df - cubic_interp_df) ** 2)\n",
    "lin_interp_mse = np.mean((ground_truth_df - lin_interp_dft) ** 2)\n",
    "print(\"Mean Squared Error (Quadratic Interpolation):\", quadr_interp_mse)\n",
    "print(\"Mean Squared Error (Cubic Interpolation):\", cubic_interp_mse)\n",
    "print(\"Mean Squared Error (Cubic Interpolation):\", lin_interp_mse)"
   ]
  },
  {
   "cell_type": "code",
   "execution_count": null,
   "metadata": {},
   "outputs": [],
   "source": [
    "quadr_interp_df"
   ]
  },
  {
   "cell_type": "code",
   "execution_count": null,
   "metadata": {},
   "outputs": [],
   "source": [
    "# calculate the overall MSE by averaging across all trees\n",
    "overall_quadr_interp_mse = np.mean(quadr_interp_mse.values)\n",
    "overall_cubic_interp_mse = np.mean(cubic_interp_mse.values)\n",
    "overall_lin_interp_mse = np.mean(lin_interp_mse.values)\n",
    "print(\"Overall Mean Squared Error (Quadratic Interpolation):\", overall_quadr_interp_mse)\n",
    "print(\"Overall Mean Squared Error (Cubic Interpolation):\", overall_cubic_interp_mse)\n",
    "print(\"Overall Mean Squared Error (Linear Interpolation):\", overall_lin_interp_mse)\n",
    "# compare the overall MSE values \n",
    "if overall_quadr_interp_mse < overall_cubic_interp_mse:\n",
    "    print(\"Quadratic interpolation has lower overall MSE.\")\n",
    "elif overall_quadr_interp_mse > overall_cubic_interp_mse:\n",
    "    print(\"Cubic interpolation has lower overall MSE.\")\n",
    "elif overall_quadr_interp_mse > overall_lin_interp_mse:\n",
    "    print(\"Linear interpolation has lower overall MSE.\")\n",
    "else:\n",
    "    print(\"Both interpolation methods have the same overall MSE.\")"
   ]
  },
  {
   "cell_type": "markdown",
   "metadata": {},
   "source": [
    "Subplot 3 daraframes: ground truth, linear and cubic interpolation"
   ]
  },
  {
   "cell_type": "code",
   "execution_count": null,
   "metadata": {},
   "outputs": [],
   "source": [
    "# Plot the first tree from each data frame using your preferred style\n",
    "ax = ground_truth_df.iloc[10, :].plot(marker='.', figsize=(10, 7), title=\"Shadow Index for First Tree\", ylabel=\"Shadow Index\", xlabel=\"Days\", grid = True)\n",
    "lin_interp_dft.iloc[10,:].plot(ax=ax, marker='.')\n",
    "cubic_interp_df.iloc[10, :].plot(ax=ax, marker='.')\n",
    "\n",
    "# Set the y-axis limits\n",
    "ax.set_ylim(0, 1)\n",
    "\n",
    "# Set the legend outside the plot area\n",
    "legend_labels = ['Ground Truth', 'Linear Interpolation', 'Cubic Interpolation']\n",
    "plt.legend(legend_labels, loc='center left', bbox_to_anchor=(1.0, 0.5))\n",
    "\n",
    "# Display the plot\n",
    "plt.show()"
   ]
  },
  {
   "cell_type": "code",
   "execution_count": null,
   "metadata": {},
   "outputs": [],
   "source": [
    "# Specify the tree indices to plot\n",
    "tree_indices = [0, 1, 2]\n",
    "\n",
    "# Create a figure with three subplots\n",
    "fig, axs = plt.subplots(1, 3, figsize=(30, 10))\n",
    "\n",
    "# Iterate over the tree indices\n",
    "for i, tree_idx in enumerate(tree_indices):\n",
    "    # Plot the ground truth values\n",
    "    axs[i].plot(ground_truth_df.iloc[tree_idx, :], marker='.', label='Ground Truth')\n",
    "    # Plot the linear interpolation values\n",
    "    axs[i].plot(lin_interp_dft.T.iloc[:, tree_idx], marker='.', label='Linear Interpolation')\n",
    "    # Plot the cubic interpolation values\n",
    "    axs[i].plot(cubic_interp_df.iloc[tree_idx, :], marker='.', label='Cubic Interpolation')\n",
    "\n",
    "    # Set the y-axis limits\n",
    "    axs[i].set_ylim(0, 1)\n",
    "\n",
    "    # Set the title for each subplot\n",
    "    axs[i].set_title('Tree {}'.format(tree_idx + 1))\n",
    "    \n",
    "    # Show the legend only for the first subplot\n",
    "    if i == 0:\n",
    "        axs[i].legend(loc='left', bbox_to_anchor=(0, 1))\n",
    "\n",
    "\n",
    "# Set the common labels and legend\n",
    "fig.text(0.5, 0.04, 'Days', ha='center')\n",
    "fig.text(0.04, 0.5, 'Shadow Index', va='center', rotation='vertical')\n",
    "\n",
    "# Adjust the spacing between subplots\n",
    "fig.tight_layout()\n",
    "\n",
    "# Display the plot\n",
    "plt.show()\n"
   ]
  },
  {
   "cell_type": "code",
   "execution_count": null,
   "metadata": {},
   "outputs": [],
   "source": [
    "selected_trees_df = gpd.read_file(tree_geojson)\n",
    "selected_trees_df"
   ]
  },
  {
   "cell_type": "code",
   "execution_count": null,
   "metadata": {},
   "outputs": [],
   "source": [
    "selected_trees_df.rename(columns={\"id\": \"tree_id\"}, inplace = True)\n",
    "selected_trees_df"
   ]
  },
  {
   "cell_type": "code",
   "execution_count": null,
   "metadata": {},
   "outputs": [],
   "source": [
    "#geo_merge = pd.merge(selected_trees_df, seasonal_df, how='inner', on=['tree_id'])"
   ]
  },
  {
   "cell_type": "code",
   "execution_count": null,
   "metadata": {},
   "outputs": [],
   "source": [
    "\"\"\"\n",
    "def mark_trees_in_sunmap(tree_json,sun_hours_map):\n",
    "    outProj = Proj(init='epsg:25833')\n",
    "    inProj = Proj(init='epsg:4326')\n",
    "    sun_hours_map= xr.open_rasterio(sun_hours_map)\n",
    "    marked_trees_map = sun_hours_map.copy()\n",
    "    for tree in list(tree_json.items()):\n",
    "        print(tree)\n",
    "        lat, lon = tree[1]\n",
    "        lon, lat = transform(inProj,outProj, lon, lat)\n",
    "        selected_tree = marked_trees_map.sel(x =[lon],y=[lat], method=\"nearest\")\n",
    "        marked_trees_map = xr.where((marked_trees_map.x == float(selected_tree.x)) & (marked_trees_map.y == float(selected_tree.y)), 100, marked_trees_map)\n",
    "    return marked_trees_map\n",
    "#create json with baumid as key and coordinates as value\n",
    "data = geo_merge[[\"tree_id\", \"geometry\"]]\n",
    "print(data)\n",
    "\n",
    "selected_trees = {}\n",
    "for baumid, coordinate in data.itertuples(index=False):\n",
    "    selected_trees[baumid] = (coordinate.y, coordinate.x)\n",
    "print(selected_trees)\n",
    "\"\"\""
   ]
  },
  {
   "cell_type": "code",
   "execution_count": null,
   "metadata": {},
   "outputs": [],
   "source": [
    "#marked_trees_map = mark_trees_in_sunmap(selected_trees, tile_sun_hour)\n",
    "#marked_trees_map.T.squeeze()[600:800, 800:1100].plot.imshow(cmap=\"gray\")\n"
   ]
  },
  {
   "cell_type": "markdown",
   "metadata": {},
   "source": [
    "Cubic Interpolation of all shadow indices for Berlin city trees:"
   ]
  },
  {
   "cell_type": "code",
   "execution_count": null,
   "metadata": {},
   "outputs": [],
   "source": [
    "all_df"
   ]
  },
  {
   "cell_type": "code",
   "execution_count": null,
   "metadata": {},
   "outputs": [],
   "source": [
    "#add montthly columns\n",
    "monthly_columns = [1, 31, 61, 91, 121, 151, 181, 211, 241, 271, 301, 331]\n",
    "all_df_monthly = all_df.reindex(columns=[*all_df.columns, *monthly_columns], fill_value=np.nan)\n",
    "all_df_monthly  = all_df_monthly.rename(columns={\"winter\": 355, \"spring\": 80, \"summer\": 172, \"autumn\": 266})\n",
    "all_df_sorted = all_df_monthly.sort_index(axis=1)\n",
    "#add last column as first column for interpolation\n",
    "last_column = all_df_sorted[355]\n",
    "new_column = pd.DataFrame({-10: last_column})\n",
    "all_df_sorted= pd.concat([new_column, all_df_sorted], axis=1)\n",
    "all_df_sorted\n"
   ]
  },
  {
   "cell_type": "code",
   "execution_count": null,
   "metadata": {},
   "outputs": [],
   "source": [
    "all_df_cubic_interp = all_df_sorted.T.interpolate(method ='cubic', order=2, limit=None,limit_direction='both')\n",
    "all_df_cubic_interp = all_df_cubic_interp.T.drop(columns=[-10, 355, 80, 172, 266])\n",
    "all_df_cubic_interp  "
   ]
  },
  {
   "cell_type": "code",
   "execution_count": null,
   "metadata": {},
   "outputs": [],
   "source": [
    "all_df_cubic_interp = all_df_cubic_interp.clip(upper=1.0)"
   ]
  },
  {
   "cell_type": "code",
   "execution_count": null,
   "metadata": {},
   "outputs": [],
   "source": [
    "all_df_cubic_interp.to_csv('all_shadow_indices_cubic_interp.csv', index=True)"
   ]
  },
  {
   "cell_type": "code",
   "execution_count": null,
   "metadata": {},
   "outputs": [],
   "source": [
    "all_df = pd.read_csv('all_shadow_indices_cubic_interp.csv', index_col=0)\n",
    "all_df.index.name = \"tree_id\"\n",
    "all_df"
   ]
  },
  {
   "cell_type": "code",
   "execution_count": null,
   "metadata": {},
   "outputs": [],
   "source": [
    "plot_shadow_indices(all_df[2000:2020].T)"
   ]
  }
 ],
 "metadata": {
  "kernelspec": {
   "display_name": "Python 3",
   "language": "python",
   "name": "python3"
  },
  "language_info": {
   "codemirror_mode": {
    "name": "ipython",
    "version": 3
   },
   "file_extension": ".py",
   "mimetype": "text/x-python",
   "name": "python",
   "nbconvert_exporter": "python",
   "pygments_lexer": "ipython3",
   "version": "3.8.3"
  }
 },
 "nbformat": 4,
 "nbformat_minor": 5
}
